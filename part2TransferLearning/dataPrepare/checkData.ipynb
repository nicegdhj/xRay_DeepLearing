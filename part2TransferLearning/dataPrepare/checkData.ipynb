{
 "cells": [
  {
   "cell_type": "code",
   "execution_count": 1,
   "metadata": {},
   "outputs": [
    {
     "name": "stdout",
     "output_type": "stream",
     "text": [
      "112120\n",
      "112120\n"
     ]
    }
   ],
   "source": [
    "import numpy as np\n",
    "import os\n",
    "import pandas as pd\n",
    "import shutil\n",
    "\n",
    "df = pd.read_csv('/home/nicehjia/myProjects/data/chestXray14/Data_Entry_2017.csv')\n",
    "\n",
    "# print(df.head(10))\n",
    "count = 0\n",
    "imageLabelMap = {}\n",
    "for idx, row in df.iterrows():\n",
    "    # print(row['Image Index'], row['Finding Labels'])\n",
    "    count += 1\n",
    "    imageLabelMap[row['Image Index']] = row['Finding Labels']\n",
    "\n",
    "print(count)\n",
    "print(len(imageLabelMap))\n",
    "\n"
   ]
  },
  {
   "cell_type": "code",
   "execution_count": 11,
   "metadata": {},
   "outputs": [
    {
     "name": "stdout",
     "output_type": "stream",
     "text": [
      "No Finding\n"
     ]
    }
   ],
   "source": [
    "print(imageLabelMap['00000005_003.png'])"
   ]
  },
  {
   "cell_type": "code",
   "execution_count": null,
   "metadata": {},
   "outputs": [],
   "source": []
  }
 ],
 "metadata": {
  "kernelspec": {
   "display_name": "Python 3",
   "language": "python",
   "name": "python3"
  },
  "language_info": {
   "codemirror_mode": {
    "name": "ipython",
    "version": 3
   },
   "file_extension": ".py",
   "mimetype": "text/x-python",
   "name": "python",
   "nbconvert_exporter": "python",
   "pygments_lexer": "ipython3",
   "version": "3.6.5"
  }
 },
 "nbformat": 4,
 "nbformat_minor": 2
}
